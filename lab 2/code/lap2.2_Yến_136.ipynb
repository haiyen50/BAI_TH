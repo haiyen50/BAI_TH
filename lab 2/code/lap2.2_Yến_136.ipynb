{
 "cells": [
  {
   "cell_type": "code",
   "execution_count": 2,
   "metadata": {},
   "outputs": [],
   "source": [
    "import numpy as np"
   ]
  },
  {
   "cell_type": "markdown",
   "metadata": {},
   "source": [
    "<font color='pink' size='5'></font>\n",
    "1. Đọc dữ liệu từ file csv\n"
   ]
  },
  {
   "cell_type": "code",
   "execution_count": 4,
   "metadata": {},
   "outputs": [
    {
     "name": "stdout",
     "output_type": "stream",
     "text": [
      "['1', 'Nguyễn Văn Bình', '3.04', '3.39', '6.7']\n",
      "['2', 'Lê Thị Na', '5.8', '6.41', '6.62']\n",
      "['3', 'Trần Văn Thành', '2.59', '3.57', '9.16']\n",
      "['4', 'Phạm Thị Hồng', '3.81', '8.78', '9.24']\n",
      "['5', 'Bùi Văn An', '8.91', '9.64', '6.39']\n",
      "['6', 'Hoàng Thị Lan', '3.23', '4.72', '6.17']\n",
      "['7', 'Vũ Văn Hùng', '2.35', '3.29', '6.89']\n",
      "['8', 'Đặng Thị Mai', '2.48', '3.81', '4.84']\n",
      "['9', 'Đỗ Văn Hải', '3.23', '2.61', '4.52']\n",
      "['10', 'Ngô Thị Thanh', '7.02', '9.01', '9.15']\n",
      "['11', 'Lương Văn Dũng', '2.29', '4.48', '5.51']\n",
      "['12', 'Mai Thị Hằng', '3.51', '7.19', '5.13']\n",
      "['13', 'Dương Văn Long', '6.74', '7.78', '6.19']\n",
      "['14', 'Nguyễn Thị Hà', '9.86', '4.64', '3.33']\n",
      "['15', 'Trần Văn Tuấn', '8.04', '5.12', '4.77']\n",
      "['16', 'Lê Văn Phúc', '2.74', '8.88', '5.8']\n",
      "['17', 'Phạm Thị Nhung', '3.04', '6.88', '3.91']\n",
      "['18', 'Hoàng Văn Nam', '5.87', '4.41', '8.84']\n",
      "['19', 'Bùi Thị Lan', '8.46', '2.63', '4.91']\n",
      "['20', 'Vũ Thị Thanh', '3.74', '6.71', '3.44']\n",
      "['21', 'Đặng Văn Hùng', '5.67', '8.05', '6.03']\n",
      "['22', 'Đỗ Thị Hồng', '8.12', '2.46', '3.87']\n",
      "['23', 'Ngô Văn Thành', '9.4', '5.31', '5.13']\n",
      "['24', 'Lương Thị Mai', '3.91', '5.09', '8.82']\n",
      "['25', 'Mai Văn Dũng', '4.26', '5.78', '8.14']\n",
      "['26', 'Dương Thị Hằng', '4.41', '2.66', '5.4']\n",
      "['27', 'Nguyễn Văn Long', '3.23', '8.3', '8.64']\n",
      "['28', 'Trần Thị Hà', '9.25', '8.29', '9.1']\n",
      "['29', 'Lê Văn Tuấn', '6.08', '2.67', '6.39']\n",
      "['30', 'Phạm Thị Phúc', '3.85', '7.71', '5.75']\n"
     ]
    }
   ],
   "source": [
    "diem = []\n",
    "with open('D:\\DHKL17A3HN\\lab 2\\data\\diem_hoc_phan.csv', 'r', encoding='utf_8') as file:\n",
    "    for line in file:\n",
    "        lines = file.readlines()\n",
    "    \n",
    "    for line in lines:\n",
    "        diem_hoc_phan = line.strip().split(',')\n",
    "        diem.append(diem_hoc_phan)\n",
    "        print(diem_hoc_phan)"
   ]
  },
  {
   "cell_type": "code",
   "execution_count": 2,
   "metadata": {},
   "outputs": [
    {
     "name": "stdout",
     "output_type": "stream",
     "text": [
      "d:\\DHKL17A3\\lab 2\\code\n"
     ]
    }
   ],
   "source": [
    "import os\n",
    "print(os.getcwd())\n"
   ]
  }
 ],
 "metadata": {
  "kernelspec": {
   "display_name": "Python 3",
   "language": "python",
   "name": "python3"
  },
  "language_info": {
   "codemirror_mode": {
    "name": "ipython",
    "version": 3
   },
   "file_extension": ".py",
   "mimetype": "text/x-python",
   "name": "python",
   "nbconvert_exporter": "python",
   "pygments_lexer": "ipython3",
   "version": "3.11.9"
  }
 },
 "nbformat": 4,
 "nbformat_minor": 2
}
