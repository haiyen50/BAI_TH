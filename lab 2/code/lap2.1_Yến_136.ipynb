{
 "cells": [
  {
   "cell_type": "markdown",
   "metadata": {},
   "source": [
    "<font color='pink' size='5'></font>\n",
    "\n",
    "Câu 1: Tạo 1 mảng mô phỏng nhiệt độ các ngày trong tháng dao động trong khoảng từ 10.0 đến 30.0 độ c, giá trị được làm tròn đến hai chữ số sau  dấu phảy, với các phần tử là một số  thực ngẫu nhiên trong khoảng này."
   ]
  },
  {
   "cell_type": "code",
   "execution_count": 1,
   "metadata": {},
   "outputs": [
    {
     "name": "stdout",
     "output_type": "stream",
     "text": [
      "Nhiệt độ trong tháng:\n",
      " [27.77 15.46 23.74 10.56 13.87 20.93 19.7  29.31 12.23 27.53 26.95 28.69\n",
      " 10.7  26.19 21.92 26.92 28.62 29.17 22.26 25.68 22.32 16.54 10.84 18.45\n",
      " 16.58 14.71 22.73 13.85 24.38 29.76]\n",
      "Trung bình nhiệt độ trong tháng là: 21.27866666666667\n"
     ]
    }
   ],
   "source": [
    "import numpy as np\n",
    "\n",
    "#Tạo mảng dữ liệu mô phỏng hàng ngày trong 1 tháng với số thực\n",
    "# Nhiệt độ trong khoảng từ 10.0 đến 30.0 độ C\n",
    "nhiet_do = np.round(np.random.uniform(10.0, 30.0, size = 30),2)\n",
    "\n",
    "print('Nhiệt độ trong tháng:\\n', nhiet_do)\n",
    "print('Trung bình nhiệt độ trong tháng là:',np.mean(nhiet_do))"
   ]
  },
  {
   "cell_type": "markdown",
   "metadata": {},
   "source": [
    "\n",
    "<font color='pink' size='5'></font>\n",
    "2: Phân tích xu hướng nhiệt độ\n",
    "a: Xác định ngày có nhiệt độ cao nhất và thấp nhất trong tháng, cho biết đấy là ngày thứ mấy\n",
    "b: Thống kê sự chênh lệch nhiệt độ giữa các ngày, độ chênh lệch cao nhất là bao nhiêu"
   ]
  },
  {
   "cell_type": "code",
   "execution_count": 3,
   "metadata": {},
   "outputs": [
    {
     "name": "stdout",
     "output_type": "stream",
     "text": [
      "Nhiệt độ cao nhất là:29.76\n",
      "Nhiệt độ thấp nhất là:10.56\n",
      "Ngày có nhiệt độ cao nhất: Ngày 30\n",
      "Ngày có nhiệt độ thấp nhất: Ngày 4\n",
      "Sự chênh lệch nhiệt độ giữa các ngày: 19.20 °C\n",
      "Ngày có sự biến động nhiệt độ cao nhất: Ngày 12\n",
      "\n"
     ]
    }
   ],
   "source": [
    "# Tìm nhiệt độ cao nhất và thấp nhất\n",
    "max_temp = np.max(nhiet_do)\n",
    "min_temp = np.min(nhiet_do)\n",
    "\n",
    "# Xác định ngày có nhiệt độ cao nhất và thấp nhất\n",
    "ngay_nhiet_do_cao_nhat = np.argmax(nhiet_do) + 1 \n",
    "ngay_nhiet_do_thap_nhat = np.argmin(nhiet_do) + 1\n",
    "chenh_lech_nhiet_do = np.ptp(nhiet_do)\n",
    "ngay_chenh_lech_cao_nhat = np.argmax(np.abs(np.diff(nhiet_do))) + 1\n",
    "\n",
    "print(f\"Nhiệt độ cao nhất là:{max_temp}\")\n",
    "print(f\"Nhiệt độ thấp nhất là:{min_temp}\")\n",
    "print(f\"Ngày có nhiệt độ cao nhất: Ngày {ngay_nhiet_do_cao_nhat}\")\n",
    "print(f\"Ngày có nhiệt độ thấp nhất: Ngày {ngay_nhiet_do_thap_nhat}\")\n",
    "print(f\"Sự chênh lệch nhiệt độ giữa các ngày: {chenh_lech_nhiet_do:.2f} °C\")\n",
    "print(f\"Ngày có sự biến động nhiệt độ cao nhất: Ngày {ngay_chenh_lech_cao_nhat}\\n\")\n"
   ]
  },
  {
   "cell_type": "markdown",
   "metadata": {},
   "source": [
    "3: Áp dụng Fancy Indexing"
   ]
  },
  {
   "cell_type": "code",
   "execution_count": 5,
   "metadata": {},
   "outputs": [
    {
     "name": "stdout",
     "output_type": "stream",
     "text": [
      "Tất cả các ngày có nhiệt độ cao hơn 20 độ C: [ 1  3  6  8 10 11 12 14 15 16 17 18 19 20 21 27 29 30]\n"
     ]
    }
   ],
   "source": [
    "ngay_nhiet_do_cao_hon_20 = np.where(nhiet_do > 20)[0] + 1\n",
    "print(f\"Tất cả các ngày có nhiệt độ cao hơn 20 độ C: {ngay_nhiet_do_cao_hon_20}\")\n"
   ]
  }
 ],
 "metadata": {
  "kernelspec": {
   "display_name": "Python 3",
   "language": "python",
   "name": "python3"
  },
  "language_info": {
   "codemirror_mode": {
    "name": "ipython",
    "version": 3
   },
   "file_extension": ".py",
   "mimetype": "text/x-python",
   "name": "python",
   "nbconvert_exporter": "python",
   "pygments_lexer": "ipython3",
   "version": "3.11.9"
  }
 },
 "nbformat": 4,
 "nbformat_minor": 2
}
